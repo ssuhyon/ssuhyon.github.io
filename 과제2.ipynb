{
 "cells": [
  {
   "cell_type": "code",
   "execution_count": 1,
   "id": "e71631b8-4594-4c1b-8908-165061b0e33a",
   "metadata": {},
   "outputs": [
    {
     "name": "stdin",
     "output_type": "stream",
     "text": [
      "이름을 입력하세요:  조수현\n",
      "성별을 입력하세요 (m/f 또는 male/female): f\n",
      "나이를 입력하세요: 32\n"
     ]
    },
    {
     "name": "stdout",
     "output_type": "stream",
     "text": [
      "Name: 조수현, Gender: Female\n",
      "Age: 32\n"
     ]
    }
   ],
   "source": [
    "import   # 정규 표현식을 사용하기 위해 re 모듈 가져오가\n",
    "def get_name():  # 이름 입력 함수 정의\n",
    "    while True:  # 이름 똑바로 입력될 때까지 반복\n",
    "        name = input(\"이름을 입력하세요: \").strip()  # 이름 입력받고 앞뒤 공백 제거(실수로 스페이스 눌렀을수도 있으니까 공백은 봐줌)\n",
    "        if re.match(r\"^[가-힣\\s]+$\", name):  # 한글이름이 맞는지 검사 (가운데 띄우고 싶으면 띄워도 됨)\n",
    "            return name  # 올바른 한글 이름이면 반환\n",
    "        elif re.match(r\"^[a-zA-Z\\s]+$\", name):  # 영어이름(알파벳과 공백) 맞는지 검사\n",
    "            return name.title()  # 영어 이름이면 첫 글자를 대문자로 변환하여 반환\n",
    "        else:  # 둘 다 아닌 경우\n",
    "            print(\"이름을 입력하라니까.\")  # 경고함\n",
    "def get_gender():  # 이름 입력 함수 정의\n",
    "    while True:  # 올바른 성별 입력할 때까지 반복\n",
    "        gender = input(\"성별을 입력하세요 (m/f 또는 male/female):\").lower()  # 입력값 소문자로 변환하기\n",
    "        if gender in ['f','female']:  # f나 female 입력하면\n",
    "            return 'Female' # Female 반환\n",
    "        elif gender in ['m', 'male']: # m이나 male 입력하면\n",
    "            return 'Male'  # Male 반환\n",
    "        else:  # 다른 거 입력하면\n",
    "            print(\"잘못된 입력입니다.\\nm/f 또는 male/female 중에서 선택하세요.\")  # 경고함\n",
    "def get_age():  # 나이 입력 함수 정의\n",
    "    while True:  # 올바른 나이 입력할 때까지 반복\n",
    "        try:  # 숫자 아닌 거 입력했을 때 대비해서 try\n",
    "            age = int(input(\"나이를 입력하세요:\"))  # 입력값 정수로 변환\n",
    "            if 0 <= age <= 120:  # 0~120 사이 값을 입력하면\n",
    "                return age  #  그대로 반환\n",
    "            elif age > 120:  # 입력값이 120보다 크면\n",
    "                print(\"거짓말!!!\")  # 거짓말이다!\n",
    "            else:  # 음수를 입력하면\n",
    "                print(\"나이를 거꾸로 드셨군요.. 다시 입력해주세요.\")  # 다시 입력해야함\n",
    "        except ValueError:  # 숫자 아닌 값 입력하면\n",
    "            print(\"나이는 숫자입니다. 다시 입력하세요.\")  # 경고함\n",
    "\n",
    "\n",
    "class Person:  # Person 클래스 선언\n",
    "    def __init__(self, name, gender, age):  # 객체 생성 시 호출되는 생성자\n",
    "        self.name = name  # 이름\n",
    "        self.gender = gender  # 성별\n",
    "        self.age = age  # 나이\n",
    "    def display(self):  # 객체 정보를 출력하는 메서드\n",
    "        print(f\"Name: {self.name}, Gender: {self.gender}\")  # 이름과 성별 출력\n",
    "        print(f\"Age: {self.age}\")  # 나이 출력\n",
    "    \n",
    "\n",
    "name = get_name()  # 이름 입력받는 함수 호출\n",
    "gender = get_gender()  # 성별 입력받는 함수 호출\n",
    "age = get_age()  # 나이 입력받는 함수 호출\n",
    "\n",
    "\n",
    "person = Person(name, gender, age)  #Person 객체 생성 및 초기화, 입력받은 정보를 기반으로 Person 객체 생성\n",
    "person.display()  # display 메서드 호출하여 객체 정보 출력"
   ]
  },
  {
   "cell_type": "code",
   "execution_count": null,
   "id": "762ca912-af56-4e9a-a977-7442cc46a271",
   "metadata": {},
   "outputs": [],
   "source": []
  }
 ],
 "metadata": {
  "kernelspec": {
   "display_name": "Python (myenv)",
   "language": "python",
   "name": "myenv"
  },
  "language_info": {
   "codemirror_mode": {
    "name": "ipython",
    "version": 3
   },
   "file_extension": ".py",
   "mimetype": "text/x-python",
   "name": "python",
   "nbconvert_exporter": "python",
   "pygments_lexer": "ipython3",
   "version": "3.12.7"
  }
 },
 "nbformat": 4,
 "nbformat_minor": 5
}
