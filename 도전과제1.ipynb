{
 "cells": [
  {
   "cell_type": "code",
   "execution_count": 1,
   "id": "f81d2324-7bb7-4385-9474-d13de465eadd",
   "metadata": {},
   "outputs": [
    {
     "name": "stdout",
     "output_type": "stream",
     "text": [
      "숫자 맞추기 게임에 오신 것을 환영합니다!\n",
      "1부터 10 사이의 숫자를 맞춰보세요.\n"
     ]
    },
    {
     "name": "stdin",
     "output_type": "stream",
     "text": [
      "숫자를 입력하세요:  5\n"
     ]
    },
    {
     "name": "stdout",
     "output_type": "stream",
     "text": [
      "이것보단 커요!\n"
     ]
    },
    {
     "name": "stdin",
     "output_type": "stream",
     "text": [
      "숫자를 입력하세요:  6\n"
     ]
    },
    {
     "name": "stdout",
     "output_type": "stream",
     "text": [
      "이것보단 커요!\n"
     ]
    },
    {
     "name": "stdin",
     "output_type": "stream",
     "text": [
      "숫자를 입력하세요:  7\n"
     ]
    },
    {
     "name": "stdout",
     "output_type": "stream",
     "text": [
      "이것보단 커요!\n"
     ]
    },
    {
     "name": "stdin",
     "output_type": "stream",
     "text": [
      "숫자를 입력하세요:  8\n"
     ]
    },
    {
     "name": "stdout",
     "output_type": "stream",
     "text": [
      "이것보단 커요!\n"
     ]
    },
    {
     "name": "stdin",
     "output_type": "stream",
     "text": [
      "숫자를 입력하세요:  9\n"
     ]
    },
    {
     "name": "stdout",
     "output_type": "stream",
     "text": [
      "이것보단 커요!\n"
     ]
    },
    {
     "name": "stdin",
     "output_type": "stream",
     "text": [
      "숫자를 입력하세요:  10\n"
     ]
    },
    {
     "name": "stdout",
     "output_type": "stream",
     "text": [
      "🎉 정답! 🎉\n"
     ]
    },
    {
     "name": "stdin",
     "output_type": "stream",
     "text": [
      "한 게임 더? (y/n):  n\n"
     ]
    },
    {
     "name": "stdout",
     "output_type": "stream",
     "text": [
      "종료!\n"
     ]
    }
   ],
   "source": [
    "import random  # 랜덤 숫자 생성을 위해 랜덤 모듈 가져오기\n",
    "\n",
    "def number_game():  # 숫자 맞추기 게임 함수 정의\n",
    "    print(\"숫자 맞추기 게임에 오신 것을 환영합니다!\\n1부터 10 사이의 숫자를 맞춰보세요.\")  # 게임 시작 메세지\n",
    "\n",
    "    while True:  # 끝날 때까지 반복\n",
    "        target_number = random.randint(1, 10)  # 1~10 사이의 랜덤 숫자 생성\n",
    "        guessed_correctly = False  # 초기값 설정(정답 맞추지 못한 것으로)\n",
    "\n",
    "        while not guessed_correctly:  # 정답을 맞출 때까지 반복\n",
    "            try:  # 숫자가 아닌 값 입력했을 때 오류 처리하기 위해 try 사용\n",
    "                user_input = int(input(\"숫자를 입력하세요: \"))  # 사용자 입력 받기\n",
    "                if user_input < 1 or user_input > 10:  # 입력 값이 1~10을 벗어났다면\n",
    "                    print(\"⚠️ 1부터 10 사이의 숫자를 입력하세요.\")  # 경고가 뜸\n",
    "                elif user_input < target_number:  # 입력값이 답보다 작다면\n",
    "                    print(\"이것보단 커요!\")  # 이것보다 크다고 알려줌\n",
    "                elif user_input > target_number:  # 입력값이 답보다 크다면\n",
    "                    print(\"이것보단 작아요!\")  # 이것보다 작다고 알려줌\n",
    "                else:  # 그 밖의 경우 = 답을 맞추면\n",
    "                    print(f\"🎉 정답! 🎉\") #축하해줌\n",
    "                    guessed_correctly = True # 정답을 맞춰서 False에서 True로 설정 ->반복 종료\n",
    "            except ValueError: # 숫자가 아닌 값을 입력했을 때\n",
    "                print(\"⚠️ 숫자를 입력하세요. 문자는 입력할 수 없습니다.\")  # 경고 메세지\n",
    "\n",
    "        # 정답 맞춘 후 게임 재시작 여부\n",
    "        play_again = input(\"한 게임 더? (y/n): \").strip().lower()  #입력값 공백 제거, 소문자 변환 \n",
    "        if play_again != 'y':   # y가 아니면 종료\n",
    "            print(\"종료!\")  # 종료 메세지 출력\n",
    "            break  # 루프 종료\n",
    "\n",
    "number_game  # number_game 함수 호출"
   ]
  },
  {
   "cell_type": "code",
   "execution_count": null,
   "id": "f023a628-d790-4bbd-a0d6-e285a3287df4",
   "metadata": {},
   "outputs": [],
   "source": []
  }
 ],
 "metadata": {
  "kernelspec": {
   "display_name": "Python (myenv)",
   "language": "python",
   "name": "myenv"
  },
  "language_info": {
   "codemirror_mode": {
    "name": "ipython",
    "version": 3
   },
   "file_extension": ".py",
   "mimetype": "text/x-python",
   "name": "python",
   "nbconvert_exporter": "python",
   "pygments_lexer": "ipython3",
   "version": "3.12.7"
  }
 },
 "nbformat": 4,
 "nbformat_minor": 5
}
