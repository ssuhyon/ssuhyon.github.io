{
 "cells": [
  {
   "cell_type": "code",
   "execution_count": 2,
   "id": "00d5ae8b-e70c-4b0c-b4df-3d925ef33ff0",
   "metadata": {},
   "outputs": [
    {
     "name": "stdin",
     "output_type": "stream",
     "text": [
      "이름을 입력하세요:  조수현\n",
      "성별을 입력하세요 (male/female):  female\n",
      "나이를 입력하세요:  32\n"
     ]
    },
    {
     "name": "stdout",
     "output_type": "stream",
     "text": [
      "이름: 조수현, 성별: Female\n",
      "나이: 32\n",
      "안녕하세요, 조수현님! 성인이시군요!\n"
     ]
    }
   ],
   "source": [
    "import re\n",
    "\n",
    "\n",
    "def get_name():  # 이름 입력 함수\n",
    "    while True:  #될 때까지 반복\n",
    "        name = input(\"이름을 입력하세요: \").strip()  # 이름 입력받기\n",
    "        if re.match(r\"^[가-힣\\s]+$\", name):  # 이름이 한글이라면(한글, 공백만 입력 가능)\n",
    "            return name  #한글 이름 반환\n",
    "        elif re.match(r\"^[a-zA-Z\\s]+$\", name):  # 이름이 영어라면 영어이름 검사\n",
    "            return name.title()  # 영어이름 첫 글자 대문자로 나오게 반환\n",
    "        else:  #그 밖의 문자들 넣으면\n",
    "            print(\"이름을 입력하라니까.\")  # 화냄\n",
    "\n",
    "\n",
    "def get_gender():  # 성별 입력 함수\n",
    "    while True: # 될 때까지 반복\n",
    "        gender = input(\"성별을 입력하세요 (male/female): \").lower().strip()  # 성별 입력받기\n",
    "        if gender in ['male', 'female']:  # 입력받은 값이 둘 중 하나면\n",
    "            return gender  # 그 값을 반환\n",
    "        else:  # 둘 중 하나가 아니면\n",
    "            print(\"잘못된 입력입니다. 'male' 또는 'female' 중에서 선택하세요.\") # 화냄\n",
    "\n",
    "\n",
    "def get_age():  # 나이 입력 함수\n",
    "    while True: # 될 때까지 반복\n",
    "        try:  # 숫자 아닌 것 입력했을 때 발생할 오류를 처리하기 위해 try 사용\n",
    "            age = int(input(\"나이를 입력하세요: \"))  # 입력값을 정수로 변환\n",
    "            if 0 <= age <= 120: # 나이가 0세에서 120세라면\n",
    "                return age  # 값 반환\n",
    "            elif age > 120:  #나이가 120세보다 많다면\n",
    "                print(\"거짓말!!!\")  #거짓말임\n",
    "            else:  # 음수를 입력하면\n",
    "                print(\"나이를 거꾸로 드셨군요.. 다시 입력해주세요.\")  #나이를 거꾸로 먹은 사람 됨\n",
    "        except ValueError:  # 숫자가 아닌 것을 입력했을 때는\n",
    "            print(\"나이는 숫자입니다. 다시 입력하세요.\")  #다시 입력하라고 함\n",
    "\n",
    "\n",
    "class Person:  # Person 클래스 정의\n",
    "    def __init__(self, name, gender, age):  # 생성자 : Person 객체를 초기화\n",
    "        self.name = name  # 입력받은 이름을 객체의 속성으로 저장\n",
    "        self.gender = gender.capitalize()  # 입력받은 성별을 첫 글자만 대문자로 변환하여 저장\n",
    "        self.age = age  # 입력받은 나이를 객체의 속성으로 저장\n",
    "\n",
    "    def display(self):  # 객체 정보를 출력하는 메서드\n",
    "        print(f\"이름: {self.name}, 성별: {self.gender}\")  # 이름과 성별을 출력\n",
    "        print(f\"나이: {self.age}\")  # 나이 출력\n",
    "\n",
    "    def greet(self):  # 나잇대에 맞는 인사 메세지 출력하는 메서드\n",
    "        if self.age < 13:  # 13세 미만 어린이인 경우\n",
    "            print(f\"안녕하세요, {self.name}어린이! 반가워요!\") #인삿말\n",
    "        elif 13 <= self.age <= 19:  # 13세 이상 19세 이하인 경우\n",
    "            print(f\"안녕하세요, {self.name}님! 청소년이시군요!\")  # 인삿말\n",
    "        elif 20 <= self.age <= 59:  # 20세 이상 59세 이하인 경우\n",
    "            print(f\"안녕하세요, {self.name}님! 성인이시군요!\")  # 인삿말\n",
    "        else:  # 그 외 어르신\n",
    "            print(f\"안녕하세요, {self.name}님! 어르신이시군요!\")  #인삿말\n",
    "\n",
    "# 사용자 입력 받기\n",
    "name = get_name()  # 이름 입력받기 함수 호출\n",
    "gender = get_gender()  # 성별 입력받기 함수 호출\n",
    "age = get_age()  # 나이 입력받기 함수 호출\n",
    "\n",
    "# Person 객체 생성 및 동작\n",
    "person = Person(name, gender, age)  # 입력받은 데이터를 기반으로 Person 객체 생성\n",
    "person.display()  # 객체 정보 출력 메서드 호출\n",
    "person.greet() # 나잇대에 맞는 인사 메세지 출력하는 메서드\n",
    "\n",
    "#-----결과-----\n",
    "#이름을 입력하세요:  조수현\n",
    "#성별을 입력하세요 (male/female):  female\n",
    "#나이를 입력하세요:  32\n",
    "#이름: 조수현, 성별: Female\n",
    "#나이: 32\n",
    "#안녕하세요, 조수현님! 성인이시군요!"
   ]
  },
  {
   "cell_type": "code",
   "execution_count": null,
   "id": "10ec0e05-764c-4e7e-a47e-172b6116f1b0",
   "metadata": {},
   "outputs": [],
   "source": []
  }
 ],
 "metadata": {
  "kernelspec": {
   "display_name": "Python (myenv)",
   "language": "python",
   "name": "myenv"
  },
  "language_info": {
   "codemirror_mode": {
    "name": "ipython",
    "version": 3
   },
   "file_extension": ".py",
   "mimetype": "text/x-python",
   "name": "python",
   "nbconvert_exporter": "python",
   "pygments_lexer": "ipython3",
   "version": "3.12.7"
  }
 },
 "nbformat": 4,
 "nbformat_minor": 5
}
