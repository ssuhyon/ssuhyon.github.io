{
 "cells": [
  {
   "cell_type": "code",
   "execution_count": 1,
   "id": "33e61d63-04d7-4190-9492-eda237bd4077",
   "metadata": {},
   "outputs": [
    {
     "name": "stdout",
     "output_type": "stream",
     "text": [
      "1부터 10 사이의 숫자를 맞춰보세요!\n"
     ]
    },
    {
     "name": "stdin",
     "output_type": "stream",
     "text": [
      "이 숫자는 무엇일까요? :  5\n"
     ]
    },
    {
     "name": "stdout",
     "output_type": "stream",
     "text": [
      "5은(는) 크다!\n"
     ]
    },
    {
     "name": "stdin",
     "output_type": "stream",
     "text": [
      "이 숫자는 무엇일까요? :  4\n"
     ]
    },
    {
     "name": "stdout",
     "output_type": "stream",
     "text": [
      "4은(는) 크다!\n"
     ]
    },
    {
     "name": "stdin",
     "output_type": "stream",
     "text": [
      "이 숫자는 무엇일까요? :  3\n"
     ]
    },
    {
     "name": "stdout",
     "output_type": "stream",
     "text": [
      "정답!\n"
     ]
    }
   ],
   "source": [
    "import   # 랜덤 숫자를 생성하기 위해 랜덤 모듈 가져오기\n",
    "# 1부터 10 사이의 랜덤 숫자 생성\n",
    "ans = random.randint(1, 10)  # 정답 숫자 설정\n",
    "print(\"1부터 10 사이의 숫자를 맞춰보세요!\")  # 게임 시작\n",
    "\n",
    "while True:  # 정답 맞출 때까지 반복\n",
    "    try:  # 오류 대비해서 try 사용\n",
    "        num = int(input(\"이 숫자는 무엇일까요? : \"))  # 입력값을 정수로 변환\n",
    "        if num < ans:  # 정답보다 입력한 값이 작으면\n",
    "            print(f\"{num}은(는) 작다!\")  # 작다!\n",
    "        elif num > ans:  # 정답보다 입력한 값이 크면\n",
    "            print(f\"{num}은(는) 크다!\")  # 크다!\n",
    "        else:  # 맞춰버리면\n",
    "            print(\"정답!\")  # 정답!\n",
    "            break  # 게입 종료\n",
    "    except ValueError:  # 숫자 아닌 값이 입력된 경우\n",
    "        print(\"숫자를 입력하세요!\")  # 경고 메세지 출력"
   ]
  },
  {
   "cell_type": "code",
   "execution_count": null,
   "id": "89469a16-3338-4967-941e-6299708bbecc",
   "metadata": {},
   "outputs": [],
   "source": []
  }
 ],
 "metadata": {
  "kernelspec": {
   "display_name": "Python (myenv)",
   "language": "python",
   "name": "myenv"
  },
  "language_info": {
   "codemirror_mode": {
    "name": "ipython",
    "version": 3
   },
   "file_extension": ".py",
   "mimetype": "text/x-python",
   "name": "python",
   "nbconvert_exporter": "python",
   "pygments_lexer": "ipython3",
   "version": "3.12.7"
  }
 },
 "nbformat": 4,
 "nbformat_minor": 5
}
